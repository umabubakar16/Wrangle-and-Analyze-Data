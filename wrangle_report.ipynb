{
 "cells": [
  {
   "cell_type": "markdown",
   "metadata": {},
   "source": [
    "## Reporting: wragle_report\n",
    "* Create a **300-600 word written report** called \"wrangle_report.pdf\" or \"wrangle_report.html\" that briefly describes your wrangling efforts. This is to be framed as an internal document."
   ]
  },
  {
   "cell_type": "markdown",
   "metadata": {},
   "source": [
    "The objective of this project is to evaluate the students' understanding of data analysis based on what they learned from the Udacity Data Analysis Nanodegree program's data wrangling module. WeRateDogs, a Twitter user with the handle @dog rates, provided the dataset that was wrangled. WeRateDogs is a Twitter account that rates users' dogs with a humorous comment. These ratings almost invariably have a numerator larger than 10 and a denominator of 10.\n",
    "\n",
    "##### This is a brief report my data wrangling steps.\n",
    "- Gathering data\n",
    "- Assessing data\n",
    "- Cleaning data\n",
    "\n",
    "- Gathering data\n",
    "--- Three dataframes were used in this project from 3 different sources. The main dataframe, df archive, was the messiest and could only be downloaded manually from udacity project workspace. df images, which is responsible for predicting dogs breed from images in tweets was available online through this url https://d17h27t6h515a5.cloudfront.net/topher/2017/August/599fd2ad_image-predictions/image-predictions.tsv and Requests library. The last one, df stats, collects data using the tweeter API and contains all the neccessary tweets' that we need but we are only interested in retweet_count and favorite_count. I made use of the data that was provided by udacity because my developer account has not been approved yet. \n"
   ]
  },
  {
   "cell_type": "code",
   "execution_count": null,
   "metadata": {},
   "outputs": [],
   "source": []
  }
 ],
 "metadata": {
  "kernelspec": {
   "display_name": "Python 3 (ipykernel)",
   "language": "python",
   "name": "python3"
  },
  "language_info": {
   "codemirror_mode": {
    "name": "ipython",
    "version": 3
   },
   "file_extension": ".py",
   "mimetype": "text/x-python",
   "name": "python",
   "nbconvert_exporter": "python",
   "pygments_lexer": "ipython3",
   "version": "3.7.6"
  }
 },
 "nbformat": 4,
 "nbformat_minor": 2
}
